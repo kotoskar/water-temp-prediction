{
 "cells": [
  {
   "cell_type": "markdown",
   "metadata": {},
   "source": [
    "# Загрузка данных"
   ]
  },
  {
   "cell_type": "code",
   "execution_count": 1,
   "metadata": {},
   "outputs": [
    {
     "name": "stderr",
     "output_type": "stream",
     "text": [
      "C:\\Users\\tibec\\AppData\\Local\\Temp\\ipykernel_10492\\3252491036.py:1: DeprecationWarning: \n",
      "Pyarrow will become a required dependency of pandas in the next major release of pandas (pandas 3.0),\n",
      "(to allow more performant data types, such as the Arrow string type, and better interoperability with other libraries)\n",
      "but was not found to be installed on your system.\n",
      "If this would cause problems for you,\n",
      "please provide us feedback at https://github.com/pandas-dev/pandas/issues/54466\n",
      "        \n",
      "  import pandas as pd\n"
     ]
    }
   ],
   "source": [
    "import pandas as pd\n",
    "import matplotlib.pyplot as plt\n",
    "import numpy as np\n",
    "from sklearn.preprocessing import StandardScaler, RobustScaler, OneHotEncoder\n",
    "from sklearn.model_selection import train_test_split, GridSearchCV, cross_val_score, RandomizedSearchCV\n",
    "from sklearn.linear_model import LogisticRegression, Lasso, Ridge, LinearRegression\n",
    "from sklearn.ensemble import RandomForestRegressor, GradientBoostingRegressor\n",
    "from sklearn.metrics import mean_squared_error, mean_absolute_error, r2_score\n",
    "from tqdm import tqdm"
   ]
  },
  {
   "cell_type": "code",
   "execution_count": 2,
   "metadata": {},
   "outputs": [
    {
     "data": {
      "text/html": [
       "<div>\n",
       "<style scoped>\n",
       "    .dataframe tbody tr th:only-of-type {\n",
       "        vertical-align: middle;\n",
       "    }\n",
       "\n",
       "    .dataframe tbody tr th {\n",
       "        vertical-align: top;\n",
       "    }\n",
       "\n",
       "    .dataframe thead th {\n",
       "        text-align: right;\n",
       "    }\n",
       "</style>\n",
       "<table border=\"1\" class=\"dataframe\">\n",
       "  <thead>\n",
       "    <tr style=\"text-align: right;\">\n",
       "      <th></th>\n",
       "      <th>date</th>\n",
       "      <th>water_temp</th>\n",
       "      <th>cloudiness_0</th>\n",
       "      <th>precipitation_0</th>\n",
       "      <th>temp_0</th>\n",
       "      <th>wind_dir_0</th>\n",
       "      <th>wind_speed_0</th>\n",
       "      <th>wind_dir_x_0</th>\n",
       "      <th>wind_dir_y_0</th>\n",
       "      <th>pressure_0</th>\n",
       "      <th>...</th>\n",
       "      <th>temp_24</th>\n",
       "      <th>wind_dir_24</th>\n",
       "      <th>wind_speed_24</th>\n",
       "      <th>wind_dir_x_24</th>\n",
       "      <th>wind_dir_y_24</th>\n",
       "      <th>pressure_24</th>\n",
       "      <th>month</th>\n",
       "      <th>day</th>\n",
       "      <th>day_length</th>\n",
       "      <th>solar_elevation</th>\n",
       "    </tr>\n",
       "  </thead>\n",
       "  <tbody>\n",
       "    <tr>\n",
       "      <th>0</th>\n",
       "      <td>2011-01-01</td>\n",
       "      <td>0.3</td>\n",
       "      <td>пасмурно</td>\n",
       "      <td>без осадков</td>\n",
       "      <td>-1.0</td>\n",
       "      <td>З</td>\n",
       "      <td>3.0</td>\n",
       "      <td>-5.510911e-16</td>\n",
       "      <td>-3.000000e+00</td>\n",
       "      <td>754.0</td>\n",
       "      <td>...</td>\n",
       "      <td>-3.0</td>\n",
       "      <td>ЮВ</td>\n",
       "      <td>2.0</td>\n",
       "      <td>-1.414214</td>\n",
       "      <td>1.414214e+00</td>\n",
       "      <td>754.0</td>\n",
       "      <td>1</td>\n",
       "      <td>1</td>\n",
       "      <td>6.168333</td>\n",
       "      <td>7.600029</td>\n",
       "    </tr>\n",
       "    <tr>\n",
       "      <th>1</th>\n",
       "      <td>2011-01-02</td>\n",
       "      <td>0.3</td>\n",
       "      <td>малооблачно</td>\n",
       "      <td>слабые осадки</td>\n",
       "      <td>-3.0</td>\n",
       "      <td>ЮВ</td>\n",
       "      <td>2.0</td>\n",
       "      <td>-1.414214e+00</td>\n",
       "      <td>1.414214e+00</td>\n",
       "      <td>754.0</td>\n",
       "      <td>...</td>\n",
       "      <td>-4.0</td>\n",
       "      <td>ЮВ</td>\n",
       "      <td>1.0</td>\n",
       "      <td>-0.707107</td>\n",
       "      <td>7.071068e-01</td>\n",
       "      <td>754.0</td>\n",
       "      <td>1</td>\n",
       "      <td>2</td>\n",
       "      <td>6.199444</td>\n",
       "      <td>7.684113</td>\n",
       "    </tr>\n",
       "    <tr>\n",
       "      <th>2</th>\n",
       "      <td>2011-01-03</td>\n",
       "      <td>0.2</td>\n",
       "      <td>пасмурно</td>\n",
       "      <td>без осадков</td>\n",
       "      <td>-4.0</td>\n",
       "      <td>ЮВ</td>\n",
       "      <td>1.0</td>\n",
       "      <td>-7.071068e-01</td>\n",
       "      <td>7.071068e-01</td>\n",
       "      <td>754.0</td>\n",
       "      <td>...</td>\n",
       "      <td>-5.0</td>\n",
       "      <td>ЮЮЗ</td>\n",
       "      <td>2.0</td>\n",
       "      <td>-1.847759</td>\n",
       "      <td>-7.653669e-01</td>\n",
       "      <td>753.0</td>\n",
       "      <td>1</td>\n",
       "      <td>3</td>\n",
       "      <td>6.233333</td>\n",
       "      <td>7.775738</td>\n",
       "    </tr>\n",
       "    <tr>\n",
       "      <th>3</th>\n",
       "      <td>2011-01-04</td>\n",
       "      <td>2.3</td>\n",
       "      <td>ясно</td>\n",
       "      <td>без осадков</td>\n",
       "      <td>-5.0</td>\n",
       "      <td>ЮЮЗ</td>\n",
       "      <td>2.0</td>\n",
       "      <td>-1.847759e+00</td>\n",
       "      <td>-7.653669e-01</td>\n",
       "      <td>753.0</td>\n",
       "      <td>...</td>\n",
       "      <td>-5.0</td>\n",
       "      <td>Ю</td>\n",
       "      <td>2.0</td>\n",
       "      <td>-2.000000</td>\n",
       "      <td>2.449294e-16</td>\n",
       "      <td>753.0</td>\n",
       "      <td>1</td>\n",
       "      <td>4</td>\n",
       "      <td>6.269722</td>\n",
       "      <td>7.874868</td>\n",
       "    </tr>\n",
       "    <tr>\n",
       "      <th>4</th>\n",
       "      <td>2011-01-05</td>\n",
       "      <td>2.1</td>\n",
       "      <td>пасмурно</td>\n",
       "      <td>без осадков</td>\n",
       "      <td>-5.0</td>\n",
       "      <td>Ю</td>\n",
       "      <td>2.0</td>\n",
       "      <td>-2.000000e+00</td>\n",
       "      <td>2.449294e-16</td>\n",
       "      <td>753.0</td>\n",
       "      <td>...</td>\n",
       "      <td>-5.0</td>\n",
       "      <td>ЮЗ</td>\n",
       "      <td>1.0</td>\n",
       "      <td>-0.707107</td>\n",
       "      <td>-7.071068e-01</td>\n",
       "      <td>755.0</td>\n",
       "      <td>1</td>\n",
       "      <td>5</td>\n",
       "      <td>6.308333</td>\n",
       "      <td>7.981454</td>\n",
       "    </tr>\n",
       "  </tbody>\n",
       "</table>\n",
       "<p>5 rows × 78 columns</p>\n",
       "</div>"
      ],
      "text/plain": [
       "         date  water_temp cloudiness_0 precipitation_0  temp_0 wind_dir_0  \\\n",
       "0  2011-01-01         0.3     пасмурно     без осадков    -1.0          З   \n",
       "1  2011-01-02         0.3  малооблачно   слабые осадки    -3.0         ЮВ   \n",
       "2  2011-01-03         0.2     пасмурно     без осадков    -4.0         ЮВ   \n",
       "3  2011-01-04         2.3         ясно     без осадков    -5.0        ЮЮЗ   \n",
       "4  2011-01-05         2.1     пасмурно     без осадков    -5.0          Ю   \n",
       "\n",
       "   wind_speed_0  wind_dir_x_0  wind_dir_y_0  pressure_0  ... temp_24  \\\n",
       "0           3.0 -5.510911e-16 -3.000000e+00       754.0  ...    -3.0   \n",
       "1           2.0 -1.414214e+00  1.414214e+00       754.0  ...    -4.0   \n",
       "2           1.0 -7.071068e-01  7.071068e-01       754.0  ...    -5.0   \n",
       "3           2.0 -1.847759e+00 -7.653669e-01       753.0  ...    -5.0   \n",
       "4           2.0 -2.000000e+00  2.449294e-16       753.0  ...    -5.0   \n",
       "\n",
       "  wind_dir_24  wind_speed_24 wind_dir_x_24  wind_dir_y_24  pressure_24  month  \\\n",
       "0          ЮВ            2.0     -1.414214   1.414214e+00        754.0      1   \n",
       "1          ЮВ            1.0     -0.707107   7.071068e-01        754.0      1   \n",
       "2         ЮЮЗ            2.0     -1.847759  -7.653669e-01        753.0      1   \n",
       "3           Ю            2.0     -2.000000   2.449294e-16        753.0      1   \n",
       "4          ЮЗ            1.0     -0.707107  -7.071068e-01        755.0      1   \n",
       "\n",
       "   day day_length solar_elevation  \n",
       "0    1   6.168333        7.600029  \n",
       "1    2   6.199444        7.684113  \n",
       "2    3   6.233333        7.775738  \n",
       "3    4   6.269722        7.874868  \n",
       "4    5   6.308333        7.981454  \n",
       "\n",
       "[5 rows x 78 columns]"
      ]
     },
     "execution_count": 2,
     "metadata": {},
     "output_type": "execute_result"
    }
   ],
   "source": [
    "df = pd.read_csv('data_prepared.csv')\n",
    "df.sort_values(by='date', inplace=True)\n",
    "df.head()"
   ]
  },
  {
   "cell_type": "code",
   "execution_count": 3,
   "metadata": {},
   "outputs": [],
   "source": [
    "df.drop(columns=[col for col in df.columns if col.endswith('_24')], inplace=True)"
   ]
  },
  {
   "cell_type": "code",
   "execution_count": 4,
   "metadata": {},
   "outputs": [],
   "source": [
    "X, y = df.drop(['date', 'water_temp'], axis=1), df['water_temp']\n",
    "categorical = [col for col in X.columns if X[col].dtype == 'O']\n",
    "X = pd.get_dummies(X, columns=['month', 'day', *categorical], drop_first=True)"
   ]
  },
  {
   "cell_type": "code",
   "execution_count": 5,
   "metadata": {},
   "outputs": [],
   "source": [
    "def generate_X(X, ndays=7):\n",
    "    for i in tqdm(range(len(X) - ndays), desc='Generating X', leave=False):\n",
    "        yield pd.concat([X.iloc[i:i+ndays], y.iloc[i:i+ndays].T], axis=1).melt().value.T\n",
    "    \n",
    "def generate_y(y, ndays=7):\n",
    "    for i in tqdm(range(len(y) - ndays), desc='Generating y', leave=False):\n",
    "        yield y.iloc[i+ndays]\n",
    "    \n",
    "\n",
    "def gen_data(X, y, ndays=7):\n",
    "    # добавить проверку что дни не подряд\n",
    "    \n",
    "    return pd.concat(generate_X(X, ndays), ignore_index=True, axis=1).T, pd.Series(list(generate_y(y, ndays)))"
   ]
  },
  {
   "cell_type": "code",
   "execution_count": 9,
   "metadata": {},
   "outputs": [
    {
     "name": "stderr",
     "output_type": "stream",
     "text": [
      "                                                                  \r"
     ]
    }
   ],
   "source": [
    "X1, y1 = gen_data(X, y, 1)\n",
    "X1_train, X1_test, y1_train, y1_test = train_test_split(X1, y1, test_size=0.2, random_state=42)"
   ]
  },
  {
   "cell_type": "code",
   "execution_count": 10,
   "metadata": {},
   "outputs": [
    {
     "data": {
      "text/plain": [
       "((4379, 304), (4379,))"
      ]
     },
     "execution_count": 10,
     "metadata": {},
     "output_type": "execute_result"
    }
   ],
   "source": [
    "X1.shape, y1.shape"
   ]
  },
  {
   "cell_type": "code",
   "execution_count": 11,
   "metadata": {},
   "outputs": [
    {
     "name": "stdout",
     "output_type": "stream",
     "text": [
      "MAE: 0.508579199890564, MSE: 0.7891774001455361, R2: 0.9803360262274997\n"
     ]
    }
   ],
   "source": [
    "lr = Lasso().fit(X1_train, y1_train)\n",
    "y1_pred = lr.predict(X1_test)\n",
    "print(f'MAE: {mean_absolute_error(y1_test, y1_pred)}, MSE: {mean_squared_error(y1_test, y1_pred)}, R2: {r2_score(y1_test, y1_pred)}')"
   ]
  },
  {
   "cell_type": "code",
   "execution_count": null,
   "metadata": {},
   "outputs": [],
   "source": [
    "days_range = range(1, 10)\n",
    "err = []\n",
    "\n",
    "for _ndays in tqdm(days_range, desc='Days range'):\n",
    "    X1, y1 = gen_data(X, y, _ndays)\n",
    "    err.append(-cross_val_score(RandomForestRegressor(), X1, y1, cv=3, scoring='neg_mean_absolute_error').mean())\n",
    "\n",
    "plt.plot(days_range, err)\n",
    "plt.xlabel('Number of days')\n",
    "plt.ylabel('MAE')\n",
    "plt.show()"
   ]
  },
  {
   "cell_type": "markdown",
   "metadata": {},
   "source": [
    "# Тест моделей"
   ]
  },
  {
   "cell_type": "code",
   "execution_count": 9,
   "metadata": {},
   "outputs": [
    {
     "name": "stderr",
     "output_type": "stream",
     "text": [
      "                                                                  \r"
     ]
    }
   ],
   "source": [
    "X1, y1 = gen_data(X, y, 5)\n",
    "X1_train, X1_test, y1_train, y1_test = train_test_split(X1, y1, test_size=0.2)"
   ]
  },
  {
   "cell_type": "code",
   "execution_count": 205,
   "metadata": {},
   "outputs": [
    {
     "name": "stdout",
     "output_type": "stream",
     "text": [
      "Fitting 4 folds for each of 100 candidates, totalling 400 fits\n",
      "{'n_estimators': 300, 'min_samples_leaf': 4, 'max_features': 0.8, 'max_depth': 7}\n",
      "0.9872470163367867\n"
     ]
    },
    {
     "data": {
      "text/plain": [
       "0.5031573535569034"
      ]
     },
     "execution_count": 205,
     "metadata": {},
     "output_type": "execute_result"
    }
   ],
   "source": [
    "params = {'n_estimators': [100, 200, 300, 400, 500],\n",
    "          'max_depth': [3, 5, 7, 9, 11],\n",
    "          'min_samples_leaf': [1, 2, 3, 4, 5],\n",
    "          'max_features': [0.5, 0.6, 0.7, 0.8, 0.9]}\n",
    "\n",
    "rf = RandomForestRegressor()\n",
    "random_search = RandomizedSearchCV(rf, param_distributions=params, n_iter=100, cv=4, n_jobs=-1, verbose=3)\n",
    "random_search.fit(X1_train, y1_train)\n",
    "print(random_search.best_params_)\n",
    "print(random_search.best_score_)\n",
    "mean_absolute_error(y1_test, random_search.predict(X1_test))"
   ]
  },
  {
   "cell_type": "code",
   "execution_count": 11,
   "metadata": {},
   "outputs": [
    {
     "name": "stdout",
     "output_type": "stream",
     "text": [
      "MAE: 0.45066482507875466, MSE: 0.6235908517996926, R2: 0.9852982821901276\n"
     ]
    }
   ],
   "source": [
    "model = Lasso(alpha=0.1).fit(X1_train, y1_train)\n",
    "y1_pred = model.predict(X1_test)\n",
    "print(f'MAE: {mean_absolute_error(y1_test, y1_pred)}, MSE: {mean_squared_error(y1_test, y1_pred)}, R2: {r2_score(y1_test, y1_pred)}')"
   ]
  },
  {
   "cell_type": "code",
   "execution_count": 10,
   "metadata": {},
   "outputs": [
    {
     "name": "stderr",
     "output_type": "stream",
     "text": [
      "Days range:   0%|          | 0/19 [00:00<?, ?it/s]"
     ]
    },
    {
     "name": "stderr",
     "output_type": "stream",
     "text": [
      "Days range: 100%|██████████| 19/19 [10:10<00:00, 32.12s/it]\n"
     ]
    },
    {
     "data": {
      "image/png": "[encoded data removed]",
      "text/plain": [
       "<Figure size 640x480 with 1 Axes>"
      ]
     },
     "metadata": {},
     "output_type": "display_data"
    }
   ],
   "source": [
    "days_range = range(1, 20)\n",
    "err = []\n",
    "\n",
    "for _ndays in tqdm(days_range, desc='Days range'):\n",
    "    X1, y1 = gen_data(X, y, _ndays)\n",
    "    err.append(-cross_val_score(Lasso(alpha=0.1), X1, y1,\n",
    "               cv=3, scoring='neg_mean_absolute_error').mean())\n",
    "\n",
    "plt.plot(days_range, err)\n",
    "plt.xlabel('Number of days')\n",
    "plt.ylabel('MAE')\n",
    "plt.show()"
   ]
  },
  {
   "cell_type": "code",
   "execution_count": 6,
   "metadata": {},
   "outputs": [
    {
     "name": "stderr",
     "output_type": "stream",
     "text": [
      "                                                                  \r"
     ]
    }
   ],
   "source": [
    "X1, y1 = gen_data(X, y, 1)\n",
    "X1_train, X1_test, y1_train, y1_test = train_test_split(X1, y1, test_size=0.2)"
   ]
  },
  {
   "cell_type": "code",
   "execution_count": 7,
   "metadata": {},
   "outputs": [
    {
     "name": "stdout",
     "output_type": "stream",
     "text": [
      "MAE: 0.4351974388845581\n",
      "MSE: 0.6234972548522687\n",
      "R2: 0.9852309759742278\n"
     ]
    }
   ],
   "source": [
    "print(f'MAE: {-cross_val_score(Lasso(alpha=0.05), X1, y1, cv=3, scoring=\"neg_mean_absolute_error\").mean()}')\n",
    "print(f'MSE: {-cross_val_score(Lasso(alpha=0.05), X1, y1, cv=3, scoring=\"neg_mean_squared_error\").mean()}')\n",
    "print(f'R2: {cross_val_score(Lasso(alpha=0.05), X1, y1, cv=3, scoring=\"r2\").mean()}')"
   ]
  },
  {
   "cell_type": "code",
   "execution_count": 8,
   "metadata": {},
   "outputs": [],
   "source": [
    "import pickle\n",
    "\n",
    "model = Lasso(alpha=0.05).fit(X1, y1)\n",
    "\n",
    "# save the classifier\n",
    "with open('model.pkl', 'wb') as fid:\n",
    "    pickle.dump(model, fid)\n",
    "\n",
    "# load it again\n",
    "with open('model.pkl', 'rb') as fid:\n",
    "    model_loaded = pickle.load(fid)"
   ]
  },
  {
   "cell_type": "code",
   "execution_count": null,
   "metadata": {},
   "outputs": [],
   "source": []
  }
 ],
 "metadata": {
  "kernelspec": {
   "display_name": "Python 3",
   "language": "python",
   "name": "python3"
  },
  "language_info": {
   "codemirror_mode": {
    "name": "ipython",
    "version": 3
   },
   "file_extension": ".py",
   "mimetype": "text/x-python",
   "name": "python",
   "nbconvert_exporter": "python",
   "pygments_lexer": "ipython3",
   "version": "3.12.1"
  }
 },
 "nbformat": 4,
 "nbformat_minor": 2
}
